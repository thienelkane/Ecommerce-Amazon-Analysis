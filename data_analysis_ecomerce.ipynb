{
 "cells": [
  {
   "cell_type": "code",
   "execution_count": 32,
   "id": "6951464a",
   "metadata": {},
   "outputs": [],
   "source": [
    "# import of modules\n",
    "import pandas as pd\n",
    "import numpy as np\n",
    "import matplotlib.pyplot as plt\n",
    "import seaborn as sns"
   ]
  },
  {
   "cell_type": "markdown",
   "id": "eeb12927",
   "metadata": {},
   "source": [
    "## **Initialization of the base**"
   ]
  },
  {
   "cell_type": "code",
   "execution_count": 33,
   "id": "8c220801",
   "metadata": {},
   "outputs": [
    {
     "name": "stderr",
     "output_type": "stream",
     "text": [
      "C:\\Users\\HP\\AppData\\Local\\Temp\\ipykernel_8200\\1387075244.py:2: DtypeWarning: Columns (23) have mixed types. Specify dtype option on import or set low_memory=False.\n",
      "  df = pd.read_csv(\"Dataset/Amazon Sale Report.csv\")\n"
     ]
    },
    {
     "data": {
      "application/vnd.microsoft.datawrangler.viewer.v0+json": {
       "columns": [
        {
         "name": "index",
         "rawType": "int64",
         "type": "integer"
        },
        {
         "name": "index",
         "rawType": "int64",
         "type": "integer"
        },
        {
         "name": "Order ID",
         "rawType": "object",
         "type": "string"
        },
        {
         "name": "Date",
         "rawType": "object",
         "type": "string"
        },
        {
         "name": "Status",
         "rawType": "object",
         "type": "string"
        },
        {
         "name": "Fulfilment",
         "rawType": "object",
         "type": "string"
        },
        {
         "name": "Sales Channel ",
         "rawType": "object",
         "type": "string"
        },
        {
         "name": "ship-service-level",
         "rawType": "object",
         "type": "string"
        },
        {
         "name": "Style",
         "rawType": "object",
         "type": "string"
        },
        {
         "name": "SKU",
         "rawType": "object",
         "type": "string"
        },
        {
         "name": "Category",
         "rawType": "object",
         "type": "string"
        },
        {
         "name": "Size",
         "rawType": "object",
         "type": "string"
        },
        {
         "name": "ASIN",
         "rawType": "object",
         "type": "string"
        },
        {
         "name": "Courier Status",
         "rawType": "object",
         "type": "unknown"
        },
        {
         "name": "Qty",
         "rawType": "int64",
         "type": "integer"
        },
        {
         "name": "currency",
         "rawType": "object",
         "type": "string"
        },
        {
         "name": "Amount",
         "rawType": "float64",
         "type": "float"
        },
        {
         "name": "ship-city",
         "rawType": "object",
         "type": "string"
        },
        {
         "name": "ship-state",
         "rawType": "object",
         "type": "string"
        },
        {
         "name": "ship-postal-code",
         "rawType": "float64",
         "type": "float"
        },
        {
         "name": "ship-country",
         "rawType": "object",
         "type": "string"
        },
        {
         "name": "promotion-ids",
         "rawType": "object",
         "type": "unknown"
        },
        {
         "name": "B2B",
         "rawType": "bool",
         "type": "boolean"
        },
        {
         "name": "fulfilled-by",
         "rawType": "object",
         "type": "unknown"
        },
        {
         "name": "Unnamed: 22",
         "rawType": "object",
         "type": "unknown"
        }
       ],
       "ref": "4b5d0354-a209-4dbd-aac4-eaa9d81e4dee",
       "rows": [
        [
         "0",
         "0",
         "405-8078784-5731545",
         "04-30-22",
         "Cancelled",
         "Merchant",
         "Amazon.in",
         "Standard",
         "SET389",
         "SET389-KR-NP-S",
         "Set",
         "S",
         "B09KXVBD7Z",
         null,
         "0",
         "INR",
         "647.62",
         "MUMBAI",
         "MAHARASHTRA",
         "400081.0",
         "IN",
         null,
         "False",
         "Easy Ship",
         null
        ],
        [
         "1",
         "1",
         "171-9198151-1101146",
         "04-30-22",
         "Shipped - Delivered to Buyer",
         "Merchant",
         "Amazon.in",
         "Standard",
         "JNE3781",
         "JNE3781-KR-XXXL",
         "kurta",
         "3XL",
         "B09K3WFS32",
         "Shipped",
         "1",
         "INR",
         "406.0",
         "BENGALURU",
         "KARNATAKA",
         "560085.0",
         "IN",
         "Amazon PLCC Free-Financing Universal Merchant AAT-WNKTBO3K27EJC,Amazon PLCC Free-Financing Universal Merchant AAT-QX3UCCJESKPA2,Amazon PLCC Free-Financing Universal Merchant AAT-5QQ7BIYYQEDN2,Amazon PLCC Free-Financing Universal Merchant AAT-DSJ2QRXXWXVMQ,Amazon PLCC Free-Financing Universal Merchant AAT-CXJHMC2YJUK76,Amazon PLCC Free-Financing Universal Merchant AAT-CC4FAVTYR4X7C,Amazon PLCC Free-Financing Universal Merchant AAT-XXRCW6NZEPZI4,Amazon PLCC Free-Financing Universal Merchant AAT-CXNSLNBROFDW4,Amazon PLCC Free-Financing Universal Merchant AAT-R7GXNZWISTRFA,Amazon PLCC Free-Financing Universal Merchant AAT-WSJLDN3X7KEMO,Amazon PLCC Free-Financing Universal Merchant AAT-VL6FGQVGQVXUS,Amazon PLCC Free-Financing Universal Merchant AAT-EOKPWFWYW7Y6I,Amazon PLCC Free-Financing Universal Merchant AAT-ZYL5UPUNW6T62,Amazon PLCC Free-Financing Universal Merchant AAT-XVPICCHRWDCAI,Amazon PLCC Free-Financing Universal Merchant AAT-ETXQ3XXWMRXBG,Amazon PLCC Free-Financing Universal Merchant AAT-7X3XCTYG64VBE,Amazon PLCC Free-Financing Universal Merchant AAT-7CHGD3WTS3MHM,Amazon PLCC Free-Financing Universal Merchant AAT-26ZDKNME27X42,Amazon PLCC Free-Financing Universal Merchant AAT-4ZF5KN6E4LJK4,Amazon PLCC Free-Financing Universal Merchant AAT-7RCXIKUAX7DDY,Amazon PLCC Free-Financing Universal Merchant AAT-BRSZZ45H6MHAO,Amazon PLCC Free-Financing Universal Merchant AAT-MKLXOOZWQL7GO,Amazon PLCC Free-Financing Universal Merchant AAT-CB7UNXEXGIJTC,Amazon PLCC Free-Financing Universal Merchant #MP-gzasho-1593152694811,Amazon PLCC Free-Financing Universal Merchant AAT-WLBA4GZ52EAH4",
         "False",
         "Easy Ship",
         null
        ],
        [
         "2",
         "2",
         "404-0687676-7273146",
         "04-30-22",
         "Shipped",
         "Amazon",
         "Amazon.in",
         "Expedited",
         "JNE3371",
         "JNE3371-KR-XL",
         "kurta",
         "XL",
         "B07WV4JV4D",
         "Shipped",
         "1",
         "INR",
         "329.0",
         "NAVI MUMBAI",
         "MAHARASHTRA",
         "410210.0",
         "IN",
         "IN Core Free Shipping 2015/04/08 23-48-5-108",
         "True",
         null,
         null
        ],
        [
         "3",
         "3",
         "403-9615377-8133951",
         "04-30-22",
         "Cancelled",
         "Merchant",
         "Amazon.in",
         "Standard",
         "J0341",
         "J0341-DR-L",
         "Western Dress",
         "L",
         "B099NRCT7B",
         null,
         "0",
         "INR",
         "753.33",
         "PUDUCHERRY",
         "PUDUCHERRY",
         "605008.0",
         "IN",
         null,
         "False",
         "Easy Ship",
         null
        ],
        [
         "4",
         "4",
         "407-1069790-7240320",
         "04-30-22",
         "Shipped",
         "Amazon",
         "Amazon.in",
         "Expedited",
         "JNE3671",
         "JNE3671-TU-XXXL",
         "Top",
         "3XL",
         "B098714BZP",
         "Shipped",
         "1",
         "INR",
         "574.0",
         "CHENNAI",
         "TAMIL NADU",
         "600073.0",
         "IN",
         null,
         "False",
         null,
         null
        ]
       ],
       "shape": {
        "columns": 24,
        "rows": 5
       }
      },
      "text/html": [
       "<div>\n",
       "<style scoped>\n",
       "    .dataframe tbody tr th:only-of-type {\n",
       "        vertical-align: middle;\n",
       "    }\n",
       "\n",
       "    .dataframe tbody tr th {\n",
       "        vertical-align: top;\n",
       "    }\n",
       "\n",
       "    .dataframe thead th {\n",
       "        text-align: right;\n",
       "    }\n",
       "</style>\n",
       "<table border=\"1\" class=\"dataframe\">\n",
       "  <thead>\n",
       "    <tr style=\"text-align: right;\">\n",
       "      <th></th>\n",
       "      <th>index</th>\n",
       "      <th>Order ID</th>\n",
       "      <th>Date</th>\n",
       "      <th>Status</th>\n",
       "      <th>Fulfilment</th>\n",
       "      <th>Sales Channel</th>\n",
       "      <th>ship-service-level</th>\n",
       "      <th>Style</th>\n",
       "      <th>SKU</th>\n",
       "      <th>Category</th>\n",
       "      <th>...</th>\n",
       "      <th>currency</th>\n",
       "      <th>Amount</th>\n",
       "      <th>ship-city</th>\n",
       "      <th>ship-state</th>\n",
       "      <th>ship-postal-code</th>\n",
       "      <th>ship-country</th>\n",
       "      <th>promotion-ids</th>\n",
       "      <th>B2B</th>\n",
       "      <th>fulfilled-by</th>\n",
       "      <th>Unnamed: 22</th>\n",
       "    </tr>\n",
       "  </thead>\n",
       "  <tbody>\n",
       "    <tr>\n",
       "      <th>0</th>\n",
       "      <td>0</td>\n",
       "      <td>405-8078784-5731545</td>\n",
       "      <td>04-30-22</td>\n",
       "      <td>Cancelled</td>\n",
       "      <td>Merchant</td>\n",
       "      <td>Amazon.in</td>\n",
       "      <td>Standard</td>\n",
       "      <td>SET389</td>\n",
       "      <td>SET389-KR-NP-S</td>\n",
       "      <td>Set</td>\n",
       "      <td>...</td>\n",
       "      <td>INR</td>\n",
       "      <td>647.62</td>\n",
       "      <td>MUMBAI</td>\n",
       "      <td>MAHARASHTRA</td>\n",
       "      <td>400081.0</td>\n",
       "      <td>IN</td>\n",
       "      <td>NaN</td>\n",
       "      <td>False</td>\n",
       "      <td>Easy Ship</td>\n",
       "      <td>NaN</td>\n",
       "    </tr>\n",
       "    <tr>\n",
       "      <th>1</th>\n",
       "      <td>1</td>\n",
       "      <td>171-9198151-1101146</td>\n",
       "      <td>04-30-22</td>\n",
       "      <td>Shipped - Delivered to Buyer</td>\n",
       "      <td>Merchant</td>\n",
       "      <td>Amazon.in</td>\n",
       "      <td>Standard</td>\n",
       "      <td>JNE3781</td>\n",
       "      <td>JNE3781-KR-XXXL</td>\n",
       "      <td>kurta</td>\n",
       "      <td>...</td>\n",
       "      <td>INR</td>\n",
       "      <td>406.00</td>\n",
       "      <td>BENGALURU</td>\n",
       "      <td>KARNATAKA</td>\n",
       "      <td>560085.0</td>\n",
       "      <td>IN</td>\n",
       "      <td>Amazon PLCC Free-Financing Universal Merchant ...</td>\n",
       "      <td>False</td>\n",
       "      <td>Easy Ship</td>\n",
       "      <td>NaN</td>\n",
       "    </tr>\n",
       "    <tr>\n",
       "      <th>2</th>\n",
       "      <td>2</td>\n",
       "      <td>404-0687676-7273146</td>\n",
       "      <td>04-30-22</td>\n",
       "      <td>Shipped</td>\n",
       "      <td>Amazon</td>\n",
       "      <td>Amazon.in</td>\n",
       "      <td>Expedited</td>\n",
       "      <td>JNE3371</td>\n",
       "      <td>JNE3371-KR-XL</td>\n",
       "      <td>kurta</td>\n",
       "      <td>...</td>\n",
       "      <td>INR</td>\n",
       "      <td>329.00</td>\n",
       "      <td>NAVI MUMBAI</td>\n",
       "      <td>MAHARASHTRA</td>\n",
       "      <td>410210.0</td>\n",
       "      <td>IN</td>\n",
       "      <td>IN Core Free Shipping 2015/04/08 23-48-5-108</td>\n",
       "      <td>True</td>\n",
       "      <td>NaN</td>\n",
       "      <td>NaN</td>\n",
       "    </tr>\n",
       "    <tr>\n",
       "      <th>3</th>\n",
       "      <td>3</td>\n",
       "      <td>403-9615377-8133951</td>\n",
       "      <td>04-30-22</td>\n",
       "      <td>Cancelled</td>\n",
       "      <td>Merchant</td>\n",
       "      <td>Amazon.in</td>\n",
       "      <td>Standard</td>\n",
       "      <td>J0341</td>\n",
       "      <td>J0341-DR-L</td>\n",
       "      <td>Western Dress</td>\n",
       "      <td>...</td>\n",
       "      <td>INR</td>\n",
       "      <td>753.33</td>\n",
       "      <td>PUDUCHERRY</td>\n",
       "      <td>PUDUCHERRY</td>\n",
       "      <td>605008.0</td>\n",
       "      <td>IN</td>\n",
       "      <td>NaN</td>\n",
       "      <td>False</td>\n",
       "      <td>Easy Ship</td>\n",
       "      <td>NaN</td>\n",
       "    </tr>\n",
       "    <tr>\n",
       "      <th>4</th>\n",
       "      <td>4</td>\n",
       "      <td>407-1069790-7240320</td>\n",
       "      <td>04-30-22</td>\n",
       "      <td>Shipped</td>\n",
       "      <td>Amazon</td>\n",
       "      <td>Amazon.in</td>\n",
       "      <td>Expedited</td>\n",
       "      <td>JNE3671</td>\n",
       "      <td>JNE3671-TU-XXXL</td>\n",
       "      <td>Top</td>\n",
       "      <td>...</td>\n",
       "      <td>INR</td>\n",
       "      <td>574.00</td>\n",
       "      <td>CHENNAI</td>\n",
       "      <td>TAMIL NADU</td>\n",
       "      <td>600073.0</td>\n",
       "      <td>IN</td>\n",
       "      <td>NaN</td>\n",
       "      <td>False</td>\n",
       "      <td>NaN</td>\n",
       "      <td>NaN</td>\n",
       "    </tr>\n",
       "  </tbody>\n",
       "</table>\n",
       "<p>5 rows × 24 columns</p>\n",
       "</div>"
      ],
      "text/plain": [
       "   index             Order ID      Date                        Status  \\\n",
       "0      0  405-8078784-5731545  04-30-22                     Cancelled   \n",
       "1      1  171-9198151-1101146  04-30-22  Shipped - Delivered to Buyer   \n",
       "2      2  404-0687676-7273146  04-30-22                       Shipped   \n",
       "3      3  403-9615377-8133951  04-30-22                     Cancelled   \n",
       "4      4  407-1069790-7240320  04-30-22                       Shipped   \n",
       "\n",
       "  Fulfilment Sales Channel  ship-service-level    Style              SKU  \\\n",
       "0   Merchant      Amazon.in           Standard   SET389   SET389-KR-NP-S   \n",
       "1   Merchant      Amazon.in           Standard  JNE3781  JNE3781-KR-XXXL   \n",
       "2     Amazon      Amazon.in          Expedited  JNE3371    JNE3371-KR-XL   \n",
       "3   Merchant      Amazon.in           Standard    J0341       J0341-DR-L   \n",
       "4     Amazon      Amazon.in          Expedited  JNE3671  JNE3671-TU-XXXL   \n",
       "\n",
       "        Category  ... currency  Amount    ship-city   ship-state  \\\n",
       "0            Set  ...      INR  647.62       MUMBAI  MAHARASHTRA   \n",
       "1          kurta  ...      INR  406.00    BENGALURU    KARNATAKA   \n",
       "2          kurta  ...      INR  329.00  NAVI MUMBAI  MAHARASHTRA   \n",
       "3  Western Dress  ...      INR  753.33   PUDUCHERRY   PUDUCHERRY   \n",
       "4            Top  ...      INR  574.00      CHENNAI   TAMIL NADU   \n",
       "\n",
       "  ship-postal-code  ship-country  \\\n",
       "0         400081.0            IN   \n",
       "1         560085.0            IN   \n",
       "2         410210.0            IN   \n",
       "3         605008.0            IN   \n",
       "4         600073.0            IN   \n",
       "\n",
       "                                       promotion-ids    B2B  fulfilled-by  \\\n",
       "0                                                NaN  False     Easy Ship   \n",
       "1  Amazon PLCC Free-Financing Universal Merchant ...  False     Easy Ship   \n",
       "2       IN Core Free Shipping 2015/04/08 23-48-5-108   True           NaN   \n",
       "3                                                NaN  False     Easy Ship   \n",
       "4                                                NaN  False           NaN   \n",
       "\n",
       "  Unnamed: 22  \n",
       "0         NaN  \n",
       "1         NaN  \n",
       "2         NaN  \n",
       "3         NaN  \n",
       "4         NaN  \n",
       "\n",
       "[5 rows x 24 columns]"
      ]
     },
     "execution_count": 33,
     "metadata": {},
     "output_type": "execute_result"
    }
   ],
   "source": [
    "# Import and creation of dataframe for datasets\n",
    "df = pd.read_csv(\"Dataset/Amazon Sale Report.csv\")\n",
    "df.head()"
   ]
  },
  {
   "cell_type": "code",
   "execution_count": 34,
   "id": "ae5fea12",
   "metadata": {},
   "outputs": [
    {
     "name": "stdout",
     "output_type": "stream",
     "text": [
      "['index', 'order_id', 'date', 'status', 'fulfilment', 'sales_channel', 'ship-service-level', 'style', 'sku', 'category', 'size', 'asin', 'courier_status', 'qty', 'currency', 'amount', 'ship-city', 'ship-state', 'ship-postal-code', 'ship-country', 'promotion-ids', 'b2b', 'fulfilled-by', 'unnamed:_22']\n"
     ]
    }
   ],
   "source": [
    "# Standardizes column names: tiny + no space\n",
    "df.columns = df.columns.str.strip().str.lower().str.replace(' ', '_')\n",
    "print(df.columns.tolist())"
   ]
  },
  {
   "cell_type": "markdown",
   "id": "18feffc9",
   "metadata": {},
   "source": [
    "## **Descriptive analysis**"
   ]
  },
  {
   "cell_type": "code",
   "execution_count": 35,
   "id": "82685895",
   "metadata": {},
   "outputs": [
    {
     "name": "stdout",
     "output_type": "stream",
     "text": [
      "<class 'pandas.core.frame.DataFrame'>\n",
      "RangeIndex: 128975 entries, 0 to 128974\n",
      "Data columns (total 24 columns):\n",
      " #   Column              Non-Null Count   Dtype  \n",
      "---  ------              --------------   -----  \n",
      " 0   index               128975 non-null  int64  \n",
      " 1   order_id            128975 non-null  object \n",
      " 2   date                128975 non-null  object \n",
      " 3   status              128975 non-null  object \n",
      " 4   fulfilment          128975 non-null  object \n",
      " 5   sales_channel       128975 non-null  object \n",
      " 6   ship-service-level  128975 non-null  object \n",
      " 7   style               128975 non-null  object \n",
      " 8   sku                 128975 non-null  object \n",
      " 9   category            128975 non-null  object \n",
      " 10  size                128975 non-null  object \n",
      " 11  asin                128975 non-null  object \n",
      " 12  courier_status      122103 non-null  object \n",
      " 13  qty                 128975 non-null  int64  \n",
      " 14  currency            121180 non-null  object \n",
      " 15  amount              121180 non-null  float64\n",
      " 16  ship-city           128942 non-null  object \n",
      " 17  ship-state          128942 non-null  object \n",
      " 18  ship-postal-code    128942 non-null  float64\n",
      " 19  ship-country        128942 non-null  object \n",
      " 20  promotion-ids       79822 non-null   object \n",
      " 21  b2b                 128975 non-null  bool   \n",
      " 22  fulfilled-by        39277 non-null   object \n",
      " 23  unnamed:_22         79925 non-null   object \n",
      "dtypes: bool(1), float64(2), int64(2), object(19)\n",
      "memory usage: 22.8+ MB\n"
     ]
    }
   ],
   "source": [
    "# info you dataset\n",
    "df.info()"
   ]
  },
  {
   "cell_type": "code",
   "execution_count": 36,
   "id": "2781c644",
   "metadata": {},
   "outputs": [
    {
     "data": {
      "application/vnd.microsoft.datawrangler.viewer.v0+json": {
       "columns": [
        {
         "name": "index",
         "rawType": "object",
         "type": "string"
        },
        {
         "name": "0",
         "rawType": "int64",
         "type": "integer"
        }
       ],
       "ref": "30096fd5-e2a8-456c-8a0e-70a55f8b3801",
       "rows": [
        [
         "index",
         "0"
        ],
        [
         "order_id",
         "0"
        ],
        [
         "date",
         "0"
        ],
        [
         "status",
         "0"
        ],
        [
         "fulfilment",
         "0"
        ],
        [
         "sales_channel",
         "0"
        ],
        [
         "ship-service-level",
         "0"
        ],
        [
         "style",
         "0"
        ],
        [
         "sku",
         "0"
        ],
        [
         "category",
         "0"
        ],
        [
         "size",
         "0"
        ],
        [
         "asin",
         "0"
        ],
        [
         "courier_status",
         "6872"
        ],
        [
         "qty",
         "0"
        ],
        [
         "currency",
         "7795"
        ],
        [
         "amount",
         "7795"
        ],
        [
         "ship-city",
         "33"
        ],
        [
         "ship-state",
         "33"
        ],
        [
         "ship-postal-code",
         "33"
        ],
        [
         "ship-country",
         "33"
        ],
        [
         "promotion-ids",
         "49153"
        ],
        [
         "b2b",
         "0"
        ],
        [
         "fulfilled-by",
         "89698"
        ],
        [
         "unnamed:_22",
         "49050"
        ]
       ],
       "shape": {
        "columns": 1,
        "rows": 24
       }
      },
      "text/plain": [
       "index                     0\n",
       "order_id                  0\n",
       "date                      0\n",
       "status                    0\n",
       "fulfilment                0\n",
       "sales_channel             0\n",
       "ship-service-level        0\n",
       "style                     0\n",
       "sku                       0\n",
       "category                  0\n",
       "size                      0\n",
       "asin                      0\n",
       "courier_status         6872\n",
       "qty                       0\n",
       "currency               7795\n",
       "amount                 7795\n",
       "ship-city                33\n",
       "ship-state               33\n",
       "ship-postal-code         33\n",
       "ship-country             33\n",
       "promotion-ids         49153\n",
       "b2b                       0\n",
       "fulfilled-by          89698\n",
       "unnamed:_22           49050\n",
       "dtype: int64"
      ]
     },
     "execution_count": 36,
     "metadata": {},
     "output_type": "execute_result"
    }
   ],
   "source": [
    "# Check the missing data\n",
    "df.isna().sum()"
   ]
  },
  {
   "cell_type": "code",
   "execution_count": 37,
   "id": "0619144f",
   "metadata": {},
   "outputs": [
    {
     "data": {
      "application/vnd.microsoft.datawrangler.viewer.v0+json": {
       "columns": [
        {
         "name": "index",
         "rawType": "int64",
         "type": "integer"
        },
        {
         "name": "order_id",
         "rawType": "object",
         "type": "string"
        },
        {
         "name": "date",
         "rawType": "object",
         "type": "string"
        },
        {
         "name": "status",
         "rawType": "object",
         "type": "string"
        },
        {
         "name": "fulfilment",
         "rawType": "object",
         "type": "string"
        },
        {
         "name": "sales_channel",
         "rawType": "object",
         "type": "string"
        },
        {
         "name": "ship-service-level",
         "rawType": "object",
         "type": "string"
        },
        {
         "name": "style",
         "rawType": "object",
         "type": "string"
        },
        {
         "name": "sku",
         "rawType": "object",
         "type": "string"
        },
        {
         "name": "category",
         "rawType": "object",
         "type": "string"
        },
        {
         "name": "size",
         "rawType": "object",
         "type": "string"
        },
        {
         "name": "asin",
         "rawType": "object",
         "type": "string"
        },
        {
         "name": "courier_status",
         "rawType": "object",
         "type": "unknown"
        },
        {
         "name": "qty",
         "rawType": "int64",
         "type": "integer"
        },
        {
         "name": "currency",
         "rawType": "object",
         "type": "string"
        },
        {
         "name": "amount",
         "rawType": "float64",
         "type": "float"
        },
        {
         "name": "ship-city",
         "rawType": "object",
         "type": "string"
        },
        {
         "name": "ship-state",
         "rawType": "object",
         "type": "string"
        },
        {
         "name": "ship-postal-code",
         "rawType": "float64",
         "type": "float"
        },
        {
         "name": "ship-country",
         "rawType": "object",
         "type": "string"
        },
        {
         "name": "b2b",
         "rawType": "bool",
         "type": "boolean"
        }
       ],
       "ref": "d3075b61-28e2-4cc2-af1c-0e7f9602eae8",
       "rows": [
        [
         "0",
         "405-8078784-5731545",
         "04-30-22",
         "Cancelled",
         "Merchant",
         "Amazon.in",
         "Standard",
         "SET389",
         "SET389-KR-NP-S",
         "Set",
         "S",
         "B09KXVBD7Z",
         null,
         "0",
         "INR",
         "647.62",
         "MUMBAI",
         "MAHARASHTRA",
         "400081.0",
         "IN",
         "False"
        ],
        [
         "1",
         "171-9198151-1101146",
         "04-30-22",
         "Shipped - Delivered to Buyer",
         "Merchant",
         "Amazon.in",
         "Standard",
         "JNE3781",
         "JNE3781-KR-XXXL",
         "kurta",
         "3XL",
         "B09K3WFS32",
         "Shipped",
         "1",
         "INR",
         "406.0",
         "BENGALURU",
         "KARNATAKA",
         "560085.0",
         "IN",
         "False"
        ],
        [
         "2",
         "404-0687676-7273146",
         "04-30-22",
         "Shipped",
         "Amazon",
         "Amazon.in",
         "Expedited",
         "JNE3371",
         "JNE3371-KR-XL",
         "kurta",
         "XL",
         "B07WV4JV4D",
         "Shipped",
         "1",
         "INR",
         "329.0",
         "NAVI MUMBAI",
         "MAHARASHTRA",
         "410210.0",
         "IN",
         "True"
        ],
        [
         "3",
         "403-9615377-8133951",
         "04-30-22",
         "Cancelled",
         "Merchant",
         "Amazon.in",
         "Standard",
         "J0341",
         "J0341-DR-L",
         "Western Dress",
         "L",
         "B099NRCT7B",
         null,
         "0",
         "INR",
         "753.33",
         "PUDUCHERRY",
         "PUDUCHERRY",
         "605008.0",
         "IN",
         "False"
        ],
        [
         "4",
         "407-1069790-7240320",
         "04-30-22",
         "Shipped",
         "Amazon",
         "Amazon.in",
         "Expedited",
         "JNE3671",
         "JNE3671-TU-XXXL",
         "Top",
         "3XL",
         "B098714BZP",
         "Shipped",
         "1",
         "INR",
         "574.0",
         "CHENNAI",
         "TAMIL NADU",
         "600073.0",
         "IN",
         "False"
        ]
       ],
       "shape": {
        "columns": 20,
        "rows": 5
       }
      },
      "text/html": [
       "<div>\n",
       "<style scoped>\n",
       "    .dataframe tbody tr th:only-of-type {\n",
       "        vertical-align: middle;\n",
       "    }\n",
       "\n",
       "    .dataframe tbody tr th {\n",
       "        vertical-align: top;\n",
       "    }\n",
       "\n",
       "    .dataframe thead th {\n",
       "        text-align: right;\n",
       "    }\n",
       "</style>\n",
       "<table border=\"1\" class=\"dataframe\">\n",
       "  <thead>\n",
       "    <tr style=\"text-align: right;\">\n",
       "      <th></th>\n",
       "      <th>order_id</th>\n",
       "      <th>date</th>\n",
       "      <th>status</th>\n",
       "      <th>fulfilment</th>\n",
       "      <th>sales_channel</th>\n",
       "      <th>ship-service-level</th>\n",
       "      <th>style</th>\n",
       "      <th>sku</th>\n",
       "      <th>category</th>\n",
       "      <th>size</th>\n",
       "      <th>asin</th>\n",
       "      <th>courier_status</th>\n",
       "      <th>qty</th>\n",
       "      <th>currency</th>\n",
       "      <th>amount</th>\n",
       "      <th>ship-city</th>\n",
       "      <th>ship-state</th>\n",
       "      <th>ship-postal-code</th>\n",
       "      <th>ship-country</th>\n",
       "      <th>b2b</th>\n",
       "    </tr>\n",
       "  </thead>\n",
       "  <tbody>\n",
       "    <tr>\n",
       "      <th>0</th>\n",
       "      <td>405-8078784-5731545</td>\n",
       "      <td>04-30-22</td>\n",
       "      <td>Cancelled</td>\n",
       "      <td>Merchant</td>\n",
       "      <td>Amazon.in</td>\n",
       "      <td>Standard</td>\n",
       "      <td>SET389</td>\n",
       "      <td>SET389-KR-NP-S</td>\n",
       "      <td>Set</td>\n",
       "      <td>S</td>\n",
       "      <td>B09KXVBD7Z</td>\n",
       "      <td>NaN</td>\n",
       "      <td>0</td>\n",
       "      <td>INR</td>\n",
       "      <td>647.62</td>\n",
       "      <td>MUMBAI</td>\n",
       "      <td>MAHARASHTRA</td>\n",
       "      <td>400081.0</td>\n",
       "      <td>IN</td>\n",
       "      <td>False</td>\n",
       "    </tr>\n",
       "    <tr>\n",
       "      <th>1</th>\n",
       "      <td>171-9198151-1101146</td>\n",
       "      <td>04-30-22</td>\n",
       "      <td>Shipped - Delivered to Buyer</td>\n",
       "      <td>Merchant</td>\n",
       "      <td>Amazon.in</td>\n",
       "      <td>Standard</td>\n",
       "      <td>JNE3781</td>\n",
       "      <td>JNE3781-KR-XXXL</td>\n",
       "      <td>kurta</td>\n",
       "      <td>3XL</td>\n",
       "      <td>B09K3WFS32</td>\n",
       "      <td>Shipped</td>\n",
       "      <td>1</td>\n",
       "      <td>INR</td>\n",
       "      <td>406.00</td>\n",
       "      <td>BENGALURU</td>\n",
       "      <td>KARNATAKA</td>\n",
       "      <td>560085.0</td>\n",
       "      <td>IN</td>\n",
       "      <td>False</td>\n",
       "    </tr>\n",
       "    <tr>\n",
       "      <th>2</th>\n",
       "      <td>404-0687676-7273146</td>\n",
       "      <td>04-30-22</td>\n",
       "      <td>Shipped</td>\n",
       "      <td>Amazon</td>\n",
       "      <td>Amazon.in</td>\n",
       "      <td>Expedited</td>\n",
       "      <td>JNE3371</td>\n",
       "      <td>JNE3371-KR-XL</td>\n",
       "      <td>kurta</td>\n",
       "      <td>XL</td>\n",
       "      <td>B07WV4JV4D</td>\n",
       "      <td>Shipped</td>\n",
       "      <td>1</td>\n",
       "      <td>INR</td>\n",
       "      <td>329.00</td>\n",
       "      <td>NAVI MUMBAI</td>\n",
       "      <td>MAHARASHTRA</td>\n",
       "      <td>410210.0</td>\n",
       "      <td>IN</td>\n",
       "      <td>True</td>\n",
       "    </tr>\n",
       "    <tr>\n",
       "      <th>3</th>\n",
       "      <td>403-9615377-8133951</td>\n",
       "      <td>04-30-22</td>\n",
       "      <td>Cancelled</td>\n",
       "      <td>Merchant</td>\n",
       "      <td>Amazon.in</td>\n",
       "      <td>Standard</td>\n",
       "      <td>J0341</td>\n",
       "      <td>J0341-DR-L</td>\n",
       "      <td>Western Dress</td>\n",
       "      <td>L</td>\n",
       "      <td>B099NRCT7B</td>\n",
       "      <td>NaN</td>\n",
       "      <td>0</td>\n",
       "      <td>INR</td>\n",
       "      <td>753.33</td>\n",
       "      <td>PUDUCHERRY</td>\n",
       "      <td>PUDUCHERRY</td>\n",
       "      <td>605008.0</td>\n",
       "      <td>IN</td>\n",
       "      <td>False</td>\n",
       "    </tr>\n",
       "    <tr>\n",
       "      <th>4</th>\n",
       "      <td>407-1069790-7240320</td>\n",
       "      <td>04-30-22</td>\n",
       "      <td>Shipped</td>\n",
       "      <td>Amazon</td>\n",
       "      <td>Amazon.in</td>\n",
       "      <td>Expedited</td>\n",
       "      <td>JNE3671</td>\n",
       "      <td>JNE3671-TU-XXXL</td>\n",
       "      <td>Top</td>\n",
       "      <td>3XL</td>\n",
       "      <td>B098714BZP</td>\n",
       "      <td>Shipped</td>\n",
       "      <td>1</td>\n",
       "      <td>INR</td>\n",
       "      <td>574.00</td>\n",
       "      <td>CHENNAI</td>\n",
       "      <td>TAMIL NADU</td>\n",
       "      <td>600073.0</td>\n",
       "      <td>IN</td>\n",
       "      <td>False</td>\n",
       "    </tr>\n",
       "  </tbody>\n",
       "</table>\n",
       "</div>"
      ],
      "text/plain": [
       "              order_id      date                        status fulfilment  \\\n",
       "0  405-8078784-5731545  04-30-22                     Cancelled   Merchant   \n",
       "1  171-9198151-1101146  04-30-22  Shipped - Delivered to Buyer   Merchant   \n",
       "2  404-0687676-7273146  04-30-22                       Shipped     Amazon   \n",
       "3  403-9615377-8133951  04-30-22                     Cancelled   Merchant   \n",
       "4  407-1069790-7240320  04-30-22                       Shipped     Amazon   \n",
       "\n",
       "  sales_channel ship-service-level    style              sku       category  \\\n",
       "0     Amazon.in           Standard   SET389   SET389-KR-NP-S            Set   \n",
       "1     Amazon.in           Standard  JNE3781  JNE3781-KR-XXXL          kurta   \n",
       "2     Amazon.in          Expedited  JNE3371    JNE3371-KR-XL          kurta   \n",
       "3     Amazon.in           Standard    J0341       J0341-DR-L  Western Dress   \n",
       "4     Amazon.in          Expedited  JNE3671  JNE3671-TU-XXXL            Top   \n",
       "\n",
       "  size        asin courier_status  qty currency  amount    ship-city  \\\n",
       "0    S  B09KXVBD7Z            NaN    0      INR  647.62       MUMBAI   \n",
       "1  3XL  B09K3WFS32        Shipped    1      INR  406.00    BENGALURU   \n",
       "2   XL  B07WV4JV4D        Shipped    1      INR  329.00  NAVI MUMBAI   \n",
       "3    L  B099NRCT7B            NaN    0      INR  753.33   PUDUCHERRY   \n",
       "4  3XL  B098714BZP        Shipped    1      INR  574.00      CHENNAI   \n",
       "\n",
       "    ship-state  ship-postal-code ship-country    b2b  \n",
       "0  MAHARASHTRA          400081.0           IN  False  \n",
       "1    KARNATAKA          560085.0           IN  False  \n",
       "2  MAHARASHTRA          410210.0           IN   True  \n",
       "3   PUDUCHERRY          605008.0           IN  False  \n",
       "4   TAMIL NADU          600073.0           IN  False  "
      ]
     },
     "execution_count": 37,
     "metadata": {},
     "output_type": "execute_result"
    }
   ],
   "source": [
    "# Deletion of unnecessary columns\n",
    "df = df.drop(['index', 'unnamed:_22', 'promotion-ids', 'fulfilled-by'], axis=1)\n",
    "df.head()"
   ]
  },
  {
   "cell_type": "code",
   "execution_count": 38,
   "id": "15a66012",
   "metadata": {},
   "outputs": [
    {
     "name": "stdout",
     "output_type": "stream",
     "text": [
      "6\n"
     ]
    }
   ],
   "source": [
    "# Duplicate line\n",
    "print(df.duplicated().sum())"
   ]
  },
  {
   "cell_type": "code",
   "execution_count": 39,
   "id": "9aa46fe9",
   "metadata": {},
   "outputs": [
    {
     "name": "stdout",
     "output_type": "stream",
     "text": [
      "0\n"
     ]
    }
   ],
   "source": [
    "# Delete duplicate lines\n",
    "df = df.drop_duplicates()\n",
    "print(df.duplicated().sum())"
   ]
  },
  {
   "cell_type": "code",
   "execution_count": 40,
   "id": "ccc17ce8",
   "metadata": {},
   "outputs": [
    {
     "data": {
      "application/vnd.microsoft.datawrangler.viewer.v0+json": {
       "columns": [
        {
         "name": "index",
         "rawType": "object",
         "type": "string"
        },
        {
         "name": "0",
         "rawType": "int64",
         "type": "integer"
        }
       ],
       "ref": "685f666a-3045-4dad-a7f8-47f58941a55b",
       "rows": [
        [
         "order_id",
         "120378"
        ],
        [
         "date",
         "91"
        ],
        [
         "status",
         "13"
        ],
        [
         "fulfilment",
         "2"
        ],
        [
         "sales_channel",
         "2"
        ],
        [
         "ship-service-level",
         "2"
        ],
        [
         "style",
         "1377"
        ],
        [
         "sku",
         "7195"
        ],
        [
         "category",
         "9"
        ],
        [
         "size",
         "11"
        ],
        [
         "asin",
         "7190"
        ],
        [
         "courier_status",
         "3"
        ],
        [
         "qty",
         "10"
        ],
        [
         "currency",
         "1"
        ],
        [
         "amount",
         "1410"
        ],
        [
         "ship-city",
         "8955"
        ],
        [
         "ship-state",
         "69"
        ],
        [
         "ship-postal-code",
         "9459"
        ],
        [
         "ship-country",
         "1"
        ],
        [
         "b2b",
         "2"
        ]
       ],
       "shape": {
        "columns": 1,
        "rows": 20
       }
      },
      "text/plain": [
       "order_id              120378\n",
       "date                      91\n",
       "status                    13\n",
       "fulfilment                 2\n",
       "sales_channel              2\n",
       "ship-service-level         2\n",
       "style                   1377\n",
       "sku                     7195\n",
       "category                   9\n",
       "size                      11\n",
       "asin                    7190\n",
       "courier_status             3\n",
       "qty                       10\n",
       "currency                   1\n",
       "amount                  1410\n",
       "ship-city               8955\n",
       "ship-state                69\n",
       "ship-postal-code        9459\n",
       "ship-country               1\n",
       "b2b                        2\n",
       "dtype: int64"
      ]
     },
     "execution_count": 40,
     "metadata": {},
     "output_type": "execute_result"
    }
   ],
   "source": [
    "df.nunique()"
   ]
  },
  {
   "cell_type": "code",
   "execution_count": 41,
   "id": "eb7a3e48",
   "metadata": {},
   "outputs": [],
   "source": [
    "# Delete lines without amount\n",
    "df = df.dropna(subset=['amount'])"
   ]
  },
  {
   "cell_type": "code",
   "execution_count": 42,
   "id": "49770ed0",
   "metadata": {},
   "outputs": [
    {
     "name": "stderr",
     "output_type": "stream",
     "text": [
      "C:\\Users\\HP\\AppData\\Local\\Temp\\ipykernel_8200\\421877863.py:2: FutureWarning: A value is trying to be set on a copy of a DataFrame or Series through chained assignment using an inplace method.\n",
      "The behavior will change in pandas 3.0. This inplace method will never work because the intermediate object on which we are setting values always behaves as a copy.\n",
      "\n",
      "For example, when doing 'df[col].method(value, inplace=True)', try using 'df.method({col: value}, inplace=True)' or df[col] = df[col].method(value) instead, to perform the operation inplace on the original object.\n",
      "\n",
      "\n",
      "  df['courier_status'].fillna('Unknown', inplace=True)\n",
      "C:\\Users\\HP\\AppData\\Local\\Temp\\ipykernel_8200\\421877863.py:3: FutureWarning: A value is trying to be set on a copy of a DataFrame or Series through chained assignment using an inplace method.\n",
      "The behavior will change in pandas 3.0. This inplace method will never work because the intermediate object on which we are setting values always behaves as a copy.\n",
      "\n",
      "For example, when doing 'df[col].method(value, inplace=True)', try using 'df.method({col: value}, inplace=True)' or df[col] = df[col].method(value) instead, to perform the operation inplace on the original object.\n",
      "\n",
      "\n",
      "  df['currency'].fillna('INR', inplace=True)\n"
     ]
    }
   ],
   "source": [
    "# Fill the missing values\n",
    "df['courier_status'].fillna('Unknown', inplace=True)\n",
    "df['currency'].fillna('INR', inplace=True)\n",
    "\n",
    "geo_cols = ['ship-city', 'ship-state', 'ship-postal-code', 'ship-country']\n",
    "for col in geo_cols:\n",
    "    df[col] = df[col].fillna('Unknown')"
   ]
  },
  {
   "cell_type": "code",
   "execution_count": 43,
   "id": "5727fa15",
   "metadata": {},
   "outputs": [
    {
     "data": {
      "application/vnd.microsoft.datawrangler.viewer.v0+json": {
       "columns": [
        {
         "name": "index",
         "rawType": "object",
         "type": "string"
        },
        {
         "name": "0",
         "rawType": "int64",
         "type": "integer"
        }
       ],
       "ref": "5155e106-5d1b-47f7-b2ba-0eaa3e48334a",
       "rows": [
        [
         "order_id",
         "0"
        ],
        [
         "date",
         "0"
        ],
        [
         "status",
         "0"
        ],
        [
         "fulfilment",
         "0"
        ],
        [
         "sales_channel",
         "0"
        ],
        [
         "ship-service-level",
         "0"
        ],
        [
         "style",
         "0"
        ],
        [
         "sku",
         "0"
        ],
        [
         "category",
         "0"
        ],
        [
         "size",
         "0"
        ],
        [
         "asin",
         "0"
        ],
        [
         "courier_status",
         "0"
        ],
        [
         "qty",
         "0"
        ],
        [
         "currency",
         "0"
        ],
        [
         "amount",
         "0"
        ],
        [
         "ship-city",
         "0"
        ],
        [
         "ship-state",
         "0"
        ],
        [
         "ship-postal-code",
         "0"
        ],
        [
         "ship-country",
         "0"
        ],
        [
         "b2b",
         "0"
        ]
       ],
       "shape": {
        "columns": 1,
        "rows": 20
       }
      },
      "text/plain": [
       "order_id              0\n",
       "date                  0\n",
       "status                0\n",
       "fulfilment            0\n",
       "sales_channel         0\n",
       "ship-service-level    0\n",
       "style                 0\n",
       "sku                   0\n",
       "category              0\n",
       "size                  0\n",
       "asin                  0\n",
       "courier_status        0\n",
       "qty                   0\n",
       "currency              0\n",
       "amount                0\n",
       "ship-city             0\n",
       "ship-state            0\n",
       "ship-postal-code      0\n",
       "ship-country          0\n",
       "b2b                   0\n",
       "dtype: int64"
      ]
     },
     "execution_count": 43,
     "metadata": {},
     "output_type": "execute_result"
    }
   ],
   "source": [
    "# Post-cleaning verification\n",
    "df.isna().sum()"
   ]
  },
  {
   "cell_type": "markdown",
   "id": "5f7acc77",
   "metadata": {},
   "source": [
    "### **Phase 1 – Data Cleaning & Descriptive Analysis**\n",
    "\n",
    "In this first phase, I explored and cleaned a dataset of nearly 129,000 Amazon orders.\n",
    "\n",
    "The raw data included several inconsistencies: missing values, duplicated rows, and redundant columns. Here's what was performed:\n",
    "\n",
    "- Removed irrelevant or empty columns (`Unnamed: 22`, `promotion-ids`, etc.)\n",
    "- Replaced missing values in key fields (`Courier Status`, `ship-city`, etc.)\n",
    "- Dropped rows with missing critical values (`Amount`)\n",
    "- Converted dates to datetime format\n",
    "- Ensured consistency in data types\n",
    "- Removed 6 exact duplicate rows\n",
    "\n",
    "The dataset is now ready for deeper analysis (sales, customer behavior, geography, etc.)\n"
   ]
  },
  {
   "cell_type": "markdown",
   "id": "a7b7b047",
   "metadata": {},
   "source": [
    "## **Exploratory analysis**"
   ]
  },
  {
   "cell_type": "code",
   "execution_count": 44,
   "id": "a08a9f27",
   "metadata": {},
   "outputs": [
    {
     "data": {
      "text/plain": [
       "({121177}, {20})"
      ]
     },
     "execution_count": 44,
     "metadata": {},
     "output_type": "execute_result"
    }
   ],
   "source": [
    "# Dimensions you dataset\n",
    "{df.shape[0]}, {df.shape[1]}"
   ]
  },
  {
   "cell_type": "code",
   "execution_count": 45,
   "id": "5417885d",
   "metadata": {},
   "outputs": [
    {
     "data": {
      "application/vnd.microsoft.datawrangler.viewer.v0+json": {
       "columns": [
        {
         "name": "index",
         "rawType": "object",
         "type": "string"
        },
        {
         "name": "qty",
         "rawType": "float64",
         "type": "float"
        },
        {
         "name": "amount",
         "rawType": "float64",
         "type": "float"
        }
       ],
       "ref": "252e1d49-9eca-45a1-8322-ee700bae255b",
       "rows": [
        [
         "count",
         "121177.0",
         "121177.0"
        ],
        [
         "mean",
         "0.9612302664697095",
         "648.5557762611716"
        ],
        [
         "std",
         "0.21435609612669834",
         "281.2098513344242"
        ],
        [
         "min",
         "0.0",
         "0.0"
        ],
        [
         "25%",
         "1.0",
         "449.0"
        ],
        [
         "50%",
         "1.0",
         "605.0"
        ],
        [
         "75%",
         "1.0",
         "788.0"
        ],
        [
         "max",
         "8.0",
         "5584.0"
        ]
       ],
       "shape": {
        "columns": 2,
        "rows": 8
       }
      },
      "text/html": [
       "<div>\n",
       "<style scoped>\n",
       "    .dataframe tbody tr th:only-of-type {\n",
       "        vertical-align: middle;\n",
       "    }\n",
       "\n",
       "    .dataframe tbody tr th {\n",
       "        vertical-align: top;\n",
       "    }\n",
       "\n",
       "    .dataframe thead th {\n",
       "        text-align: right;\n",
       "    }\n",
       "</style>\n",
       "<table border=\"1\" class=\"dataframe\">\n",
       "  <thead>\n",
       "    <tr style=\"text-align: right;\">\n",
       "      <th></th>\n",
       "      <th>qty</th>\n",
       "      <th>amount</th>\n",
       "    </tr>\n",
       "  </thead>\n",
       "  <tbody>\n",
       "    <tr>\n",
       "      <th>count</th>\n",
       "      <td>121177.000000</td>\n",
       "      <td>121177.000000</td>\n",
       "    </tr>\n",
       "    <tr>\n",
       "      <th>mean</th>\n",
       "      <td>0.961230</td>\n",
       "      <td>648.555776</td>\n",
       "    </tr>\n",
       "    <tr>\n",
       "      <th>std</th>\n",
       "      <td>0.214356</td>\n",
       "      <td>281.209851</td>\n",
       "    </tr>\n",
       "    <tr>\n",
       "      <th>min</th>\n",
       "      <td>0.000000</td>\n",
       "      <td>0.000000</td>\n",
       "    </tr>\n",
       "    <tr>\n",
       "      <th>25%</th>\n",
       "      <td>1.000000</td>\n",
       "      <td>449.000000</td>\n",
       "    </tr>\n",
       "    <tr>\n",
       "      <th>50%</th>\n",
       "      <td>1.000000</td>\n",
       "      <td>605.000000</td>\n",
       "    </tr>\n",
       "    <tr>\n",
       "      <th>75%</th>\n",
       "      <td>1.000000</td>\n",
       "      <td>788.000000</td>\n",
       "    </tr>\n",
       "    <tr>\n",
       "      <th>max</th>\n",
       "      <td>8.000000</td>\n",
       "      <td>5584.000000</td>\n",
       "    </tr>\n",
       "  </tbody>\n",
       "</table>\n",
       "</div>"
      ],
      "text/plain": [
       "                 qty         amount\n",
       "count  121177.000000  121177.000000\n",
       "mean        0.961230     648.555776\n",
       "std         0.214356     281.209851\n",
       "min         0.000000       0.000000\n",
       "25%         1.000000     449.000000\n",
       "50%         1.000000     605.000000\n",
       "75%         1.000000     788.000000\n",
       "max         8.000000    5584.000000"
      ]
     },
     "execution_count": 45,
     "metadata": {},
     "output_type": "execute_result"
    }
   ],
   "source": [
    "# General digital statistics\n",
    "df.describe()"
   ]
  },
  {
   "cell_type": "code",
   "execution_count": 46,
   "id": "d1e3d30e",
   "metadata": {},
   "outputs": [
    {
     "name": "stdout",
     "output_type": "stream",
     "text": [
      "Categorical columns -unique values :\n",
      "→ order_id: 113030 unique values\n",
      "→ date: 91 unique values\n",
      "→ status: 12 unique values\n",
      "→ fulfilment: 2 unique values\n",
      "→ sales_channel: 1 unique values\n",
      "→ ship-service-level: 2 unique values\n",
      "→ style: 1373 unique values\n",
      "→ sku: 7157 unique values\n",
      "→ category: 9 unique values\n",
      "→ size: 11 unique values\n",
      "→ asin: 7153 unique values\n",
      "→ courier_status: 3 unique values\n",
      "→ currency: 1 unique values\n",
      "→ ship-city: 8705 unique values\n",
      "→ ship-state: 69 unique values\n",
      "→ ship-postal-code: 9274 unique values\n",
      "→ ship-country: 2 unique values\n"
     ]
    }
   ],
   "source": [
    "# Statistics on Object columns (categorical)\n",
    "print(\"Categorical columns -unique values :\")\n",
    "for col in df.select_dtypes(include='object').columns:\n",
    "    print(f\"→ {col}: {df[col].nunique()} unique values\")"
   ]
  },
  {
   "cell_type": "code",
   "execution_count": 47,
   "id": "7401ce43",
   "metadata": {},
   "outputs": [
    {
     "data": {
      "image/png": "[encoded data removed]",
      "text/plain": [
       "<Figure size 1000x500 with 1 Axes>"
      ]
     },
     "metadata": {},
     "output_type": "display_data"
    }
   ],
   "source": [
    "# Distribution of turnover\n",
    "plt.figure(figsize=(10, 5))\n",
    "sns.histplot(df['amount'], bins=50, kde=True)\n",
    "plt.title(\"Distribution of sales amounts (Amount)\")\n",
    "plt.xlabel(\"Amount\")\n",
    "plt.ylabel(\"Number of orders\")\n",
    "plt.xlim(0, df['amount'].quantile(0.99))\n",
    "plt.show()"
   ]
  },
  {
   "cell_type": "code",
   "execution_count": 48,
   "id": "a30631bd",
   "metadata": {},
   "outputs": [
    {
     "data": {
      "image/png": "[encoded data removed]",
      "text/plain": [
       "<Figure size 800x400 with 1 Axes>"
      ]
     },
     "metadata": {},
     "output_type": "display_data"
    }
   ],
   "source": [
    "# Distribution of sales by status\n",
    "plt.figure(figsize=(8, 4))\n",
    "sns.countplot(data=df, x='status', order=df['status'].value_counts().index)\n",
    "plt.title(\"Distribution of orders by status\")\n",
    "plt.xticks(rotation=45)\n",
    "plt.show()"
   ]
  },
  {
   "cell_type": "code",
   "execution_count": 49,
   "id": "762662d3",
   "metadata": {},
   "outputs": [
    {
     "data": {
      "image/png": "[encoded data removed]",
      "text/plain": [
       "<Figure size 600x400 with 1 Axes>"
      ]
     },
     "metadata": {},
     "output_type": "display_data"
    }
   ],
   "source": [
    "# Distribution by sales channel\n",
    "plt.figure(figsize=(6, 4))\n",
    "sns.countplot(data=df, x='sales_channel', order=df['sales_channel'].value_counts().index)\n",
    "plt.title(\"Distribution of orders by sales channel\")\n",
    "plt.show()"
   ]
  },
  {
   "cell_type": "code",
   "execution_count": 50,
   "id": "174fe0b6",
   "metadata": {},
   "outputs": [
    {
     "data": {
      "image/png": "[encoded data removed]",
      "text/plain": [
       "<Figure size 1000x600 with 1 Axes>"
      ]
     },
     "metadata": {},
     "output_type": "display_data"
    }
   ],
   "source": [
    "# Visualisation Monthly sales evolution\n",
    "top_skus = (\n",
    "    df.groupby('sku')[['amount']]\n",
    "    .sum()\n",
    "    .sort_values(by='amount', ascending=False)\n",
    "    .head(10)\n",
    ")\n",
    "top_skus.plot(kind='barh', figsize=(10, 6), title=\"Top 10 products (turnover)\")\n",
    "plt.xlabel(\"Total amount\")\n",
    "plt.show()\n"
   ]
  },
  {
   "cell_type": "code",
   "execution_count": 51,
   "id": "9234142f",
   "metadata": {},
   "outputs": [
    {
     "name": "stderr",
     "output_type": "stream",
     "text": [
      "C:\\Users\\HP\\AppData\\Local\\Temp\\ipykernel_8200\\2962870095.py:2: UserWarning: Could not infer format, so each element will be parsed individually, falling back to `dateutil`. To ensure parsing is consistent and as-expected, please specify a format.\n",
      "  df['date'] = pd.to_datetime(df['date'], errors='coerce')\n"
     ]
    },
    {
     "data": {
      "image/png": "[encoded data removed]",
      "text/plain": [
       "<Figure size 1000x400 with 1 Axes>"
      ]
     },
     "metadata": {},
     "output_type": "display_data"
    }
   ],
   "source": [
    "# Visualisation Monthly sales evolution\n",
    "df['date'] = pd.to_datetime(df['date'], errors='coerce')\n",
    "df['month'] = df['date'].dt.to_period('M')\n",
    "\n",
    "monthly_sales = df.groupby('month')['amount'].sum()\n",
    "monthly_sales.plot(kind='line', marker='o', figsize=(10, 4), title=\"Monthly sales evolution\")\n",
    "plt.ylabel(\"Turnover (₹)\")\n",
    "plt.grid(True)\n",
    "plt.show()"
   ]
  },
  {
   "cell_type": "code",
   "execution_count": 52,
   "id": "d2d96b18",
   "metadata": {},
   "outputs": [
    {
     "data": {
      "image/png": "[encoded data removed]",
      "text/plain": [
       "<Figure size 600x600 with 1 Axes>"
      ]
     },
     "metadata": {},
     "output_type": "display_data"
    }
   ],
   "source": [
    "# Visualisation of distribution of order statutes\n",
    "df['status'].value_counts().plot(kind='pie', autopct='%1.1f%%', figsize=(6, 6), title='Distribution of order statutes')\n",
    "plt.ylabel('')\n",
    "plt.show()"
   ]
  },
  {
   "cell_type": "code",
   "execution_count": 53,
   "id": "3f8cece1",
   "metadata": {},
   "outputs": [
    {
     "data": {
      "image/png": "[encoded data removed]",
      "text/plain": [
       "<Figure size 800x500 with 1 Axes>"
      ]
     },
     "metadata": {},
     "output_type": "display_data"
    }
   ],
   "source": [
    "# Visualistaion of Top country in delivery\n",
    "top_countries = df['ship-country'].value_counts().head(10)\n",
    "top_countries.plot(kind='barh', title=\"Top country of delivery\", figsize=(8, 5))\n",
    "plt.xlabel(\"Number of orders\")\n",
    "plt.show()"
   ]
  },
  {
   "cell_type": "markdown",
   "id": "81dac184",
   "metadata": {},
   "source": [
    "### 📊 **Interpretations of exploratory charts**\n",
    "\n",
    "---\n",
    "\n",
    "#### 1. ***Distribution of sales amounts***\n",
    "\n",
    "The majority of sales amounts are concentrated in a low range, with a peak around small orders. This indicates that sales are mainly made up of low-value transactions, which is typical of a B2C model.\n",
    "\n",
    "However, the presence of a long tail on the right reveals some very high-value sales. These extreme values may correspond to bulk purchases or B2B orders.\n",
    "\n",
    "**Monthly trend in sales** (in %)\n",
    "\n",
    "This graph shows how sales evolve month by month.\n",
    "\n",
    "It's easy to spot periods of high activity (sales peaks) as well as slack periods. These variations can be linked to :\n",
    "- Promotional campaigns (e.g. festivals, seasonal sales)\n",
    "- Stock or price adjustments\n",
    "- Changes in customer behavior\n",
    "\n",
    "    This distribution highlights the importance of small orders in terms of volume, but also the significant contribution of a few large sales.\n",
    "\n",
    "---\n",
    "\n",
    "#### 2. ***Distribution of order statuses***\n",
    "\n",
    "The majority of orders are marked as “Delivered” or “Shipped”, indicating that the logistics process is functioning correctly for a large proportion of transactions.\n",
    "\n",
    "However, a significant percentage of orders are cancelled or returned. This may reflect :\n",
    "- Lack of product availability (stock)\n",
    "- Customer dissatisfaction\n",
    "- Delivery errors\n",
    "\n",
    "    It may be useful to investigate these causes in a targeted analysis to reduce losses associated with unfinished orders.\n",
    "\n",
    "---\n",
    "\n",
    "#### 3. ***Distribution of orders by sales channel***\n",
    "\n",
    "There is a high concentration of sales on one main channel (probably Amazon.in), while other channels are much less used.\n",
    "\n",
    "This means that sales activity is heavily dependent on a single sales platform. This situation offers good visibility, but also represents a risk in the event of a change in algorithm, policy or competition.\n",
    "\n",
    "    Diversification into other channels could improve business resilience and capture new customer segments."
   ]
  },
  {
   "cell_type": "markdown",
   "id": "74f49cff",
   "metadata": {},
   "source": [
    "## **Products analysis**"
   ]
  },
  {
   "cell_type": "code",
   "execution_count": 54,
   "id": "de50a810",
   "metadata": {},
   "outputs": [
    {
     "name": "stderr",
     "output_type": "stream",
     "text": [
      "C:\\Users\\HP\\AppData\\Local\\Temp\\ipykernel_8200\\2539685894.py:11: FutureWarning: \n",
      "\n",
      "Passing `palette` without assigning `hue` is deprecated and will be removed in v0.14.0. Assign the `y` variable to `hue` and set `legend=False` for the same effect.\n",
      "\n",
      "  sns.barplot(y=top_products.index, x=top_products['amount'], palette='viridis')\n",
      "C:\\Users\\HP\\AppData\\Local\\Temp\\ipykernel_8200\\2539685894.py:15: UserWarning: Glyph 128176 (\\N{MONEY BAG}) missing from font(s) DejaVu Sans.\n",
      "  plt.tight_layout()\n",
      "c:\\Users\\HP\\OneDrive\\Documents\\Cours_house\\projets\\PR3\\PR3\\Lib\\site-packages\\IPython\\core\\pylabtools.py:170: UserWarning: Glyph 128176 (\\N{MONEY BAG}) missing from font(s) DejaVu Sans.\n",
      "  fig.canvas.print_figure(bytes_io, **kw)\n"
     ]
    },
    {
     "data": {
      "image/png": "[encoded data removed]",
      "text/plain": [
       "<Figure size 1000x600 with 1 Axes>"
      ]
     },
     "metadata": {},
     "output_type": "display_data"
    }
   ],
   "source": [
    "# Group the data by SKU and calculate total sales and quantities\n",
    "top_products = (\n",
    "    df.groupby('sku')[['qty', 'amount']]\n",
    "    .sum()\n",
    "    .sort_values(by='amount', ascending=False)\n",
    "    .head(10)\n",
    ")\n",
    "\n",
    "# Visualization of the top 10 in turnover\n",
    "plt.figure(figsize=(10, 6))\n",
    "sns.barplot(y=top_products.index, x=top_products['amount'], palette='viridis')\n",
    "plt.title(\"💰 Top 10 products per turnover\")\n",
    "plt.xlabel(\"Total turnover (₹)\")\n",
    "plt.ylabel(\"SKU\")\n",
    "plt.tight_layout()\n",
    "plt.show()"
   ]
  },
  {
   "cell_type": "code",
   "execution_count": 55,
   "id": "a159d6cb",
   "metadata": {},
   "outputs": [
    {
     "name": "stderr",
     "output_type": "stream",
     "text": [
      "C:\\Users\\HP\\AppData\\Local\\Temp\\ipykernel_8200\\2448778791.py:10: FutureWarning: \n",
      "\n",
      "Passing `palette` without assigning `hue` is deprecated and will be removed in v0.14.0. Assign the `y` variable to `hue` and set `legend=False` for the same effect.\n",
      "\n",
      "  sns.barplot(y=top_products_qty.index, x=top_products_qty.values, palette='mako')\n"
     ]
    },
    {
     "data": {
      "image/png": "[encoded data removed]",
      "text/plain": [
       "<Figure size 1000x600 with 1 Axes>"
      ]
     },
     "metadata": {},
     "output_type": "display_data"
    }
   ],
   "source": [
    "# Visualization of the top 10 in quantity\n",
    "top_products_qty = (\n",
    "    df.groupby('sku')['qty']\n",
    "    .sum()\n",
    "    .sort_values(ascending=False)\n",
    "    .head(10)\n",
    ")\n",
    "\n",
    "plt.figure(figsize=(10, 6))\n",
    "sns.barplot(y=top_products_qty.index, x=top_products_qty.values, palette='mako')\n",
    "plt.title(\"Top 10 products by sales volume (quantity)\")\n",
    "plt.xlabel(\"Total quantity sold\")\n",
    "plt.ylabel(\"SKU\")\n",
    "plt.tight_layout()\n",
    "plt.show()"
   ]
  },
  {
   "cell_type": "markdown",
   "id": "7ac2951d",
   "metadata": {},
   "source": [
    "#### **📊 Interpretation - Top-performing products**\n",
    "\n",
    "The two graphs show the top 10 products in the catalog :\n",
    "\n",
    "- The first chart is based on the **total sales** generated by each SKU.\n",
    "- The second chart ranks products by **total quantity sold**.\n",
    "\n",
    "These analyses reveal :\n",
    "- the most profitable products (even if their quantity is small)\n",
    "- Popular products (those that sell in large quantities)\n",
    "\n",
    "---\n"
   ]
  }
 ],
 "metadata": {
  "kernelspec": {
   "display_name": "PR3",
   "language": "python",
   "name": "python3"
  },
  "language_info": {
   "codemirror_mode": {
    "name": "ipython",
    "version": 3
   },
   "file_extension": ".py",
   "mimetype": "text/x-python",
   "name": "python",
   "nbconvert_exporter": "python",
   "pygments_lexer": "ipython3",
   "version": "3.12.0"
  }
 },
 "nbformat": 4,
 "nbformat_minor": 5
}
